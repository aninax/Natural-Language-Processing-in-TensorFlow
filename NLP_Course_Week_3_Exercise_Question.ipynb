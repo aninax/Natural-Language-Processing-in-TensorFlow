{
  "nbformat": 4,
  "nbformat_minor": 0,
  "metadata": {
    "colab": {
      "name": "NLP Course - Week 3 Exercise Question.ipynb",
      "version": "0.3.2",
      "provenance": []
    },
    "kernelspec": {
      "name": "python3",
      "display_name": "Python 3"
    },
    "accelerator": "GPU"
  },
  "cells": [
    {
      "cell_type": "code",
      "metadata": {
        "id": "hmA6EzkQJ5jt",
        "colab_type": "code",
        "colab": {}
      },
      "source": [
        "import json\n",
        "import tensorflow as tf\n",
        "import csv\n",
        "import random\n",
        "import numpy as np\n",
        "\n",
        "from tensorflow.keras.preprocessing.text import Tokenizer\n",
        "from tensorflow.keras.preprocessing.sequence import pad_sequences\n",
        "from tensorflow.keras.utils import to_categorical\n",
        "from tensorflow.keras import regularizers\n",
        "\n",
        "\n",
        "embedding_dim = 100\n",
        "max_length = 16\n",
        "trunc_type='post'\n",
        "padding_type='post'\n",
        "oov_tok = \"<OOV>\"\n",
        "training_size=160000\n",
        "test_portion=.1\n",
        "\n",
        "corpus = []\n"
      ],
      "execution_count": 0,
      "outputs": []
    },
    {
      "cell_type": "code",
      "metadata": {
        "id": "bM0l_dORKqE0",
        "colab_type": "code",
        "outputId": "2b2c885d-7ffa-4b31-fc31-c06071d1de8d",
        "colab": {
          "base_uri": "https://localhost:8080/",
          "height": 219
        }
      },
      "source": [
        "\n",
        "# Note that I cleaned the Stanford dataset to remove LATIN1 encoding to make it easier for Python CSV reader\n",
        "# You can do that yourself with:\n",
        "# iconv -f LATIN1 -t UTF8 training.1600000.processed.noemoticon.csv -o training_cleaned.csv\n",
        "# I then hosted it on my site to make it easier to use in this notebook\n",
        "\n",
        "!wget --no-check-certificate \\\n",
        "    https://storage.googleapis.com/laurencemoroney-blog.appspot.com/training_cleaned.csv \\\n",
        "    -O /tmp/training_cleaned.csv\n",
        "\n",
        "num_sentences = 0\n",
        "\n",
        "with open(\"/tmp/training_cleaned.csv\") as csvfile:\n",
        "    reader = csv.reader(csvfile, delimiter=',')\n",
        "    for row in reader:\n",
        "        list_item=[]\n",
        "        list_item.append(row[5])\n",
        "        this_label=row[0]\n",
        "        if this_label=='0':\n",
        "            list_item.append(0)\n",
        "        else:\n",
        "            list_item.append(1)\n",
        "        num_sentences = num_sentences + 1\n",
        "        corpus.append(list_item)\n",
        "\n",
        "\n"
      ],
      "execution_count": 0,
      "outputs": [
        {
          "output_type": "stream",
          "text": [
            "--2019-09-04 23:13:07--  https://storage.googleapis.com/laurencemoroney-blog.appspot.com/training_cleaned.csv\n",
            "Resolving storage.googleapis.com (storage.googleapis.com)... 74.125.140.128, 2a00:1450:400c:c08::80\n",
            "Connecting to storage.googleapis.com (storage.googleapis.com)|74.125.140.128|:443... connected.\n",
            "HTTP request sent, awaiting response... 200 OK\n",
            "Length: 238942690 (228M) [application/octet-stream]\n",
            "Saving to: ‘/tmp/training_cleaned.csv’\n",
            "\n",
            "/tmp/training_clean 100%[===================>] 227.87M   128MB/s    in 1.8s    \n",
            "\n",
            "2019-09-04 23:13:09 (128 MB/s) - ‘/tmp/training_cleaned.csv’ saved [238942690/238942690]\n",
            "\n"
          ],
          "name": "stdout"
        }
      ]
    },
    {
      "cell_type": "code",
      "metadata": {
        "id": "3kxblBUjEUX-",
        "colab_type": "code",
        "outputId": "9919a82a-6782-4650-8ee9-a3112f49f1d1",
        "colab": {
          "base_uri": "https://localhost:8080/",
          "height": 72
        }
      },
      "source": [
        "print(num_sentences)\n",
        "print(len(corpus))\n",
        "print(corpus[1])\n",
        "\n",
        "# Expected Output:\n",
        "# 1600000\n",
        "# 1600000\n",
        "# [\"is upset that he can't update his Facebook by texting it... and might cry as a result  School today also. Blah!\", 0]"
      ],
      "execution_count": 0,
      "outputs": [
        {
          "output_type": "stream",
          "text": [
            "1600000\n",
            "1600000\n",
            "[\"is upset that he can't update his Facebook by texting it... and might cry as a result  School today also. Blah!\", 0]\n"
          ],
          "name": "stdout"
        }
      ]
    },
    {
      "cell_type": "code",
      "metadata": {
        "id": "ohOGz24lsNAD",
        "colab_type": "code",
        "colab": {}
      },
      "source": [
        "sentences=[]\n",
        "labels=[]\n",
        "random.shuffle(corpus)\n",
        "for x in range(training_size):\n",
        "    sentences.append(corpus[x][0])\n",
        "    labels.append(corpus[x][1])\n",
        "tokenizer = Tokenizer(num_words = None, oov_token = oov_tok)\n",
        "tokenizer.fit_on_texts(sentences)\n",
        "word_index = tokenizer.word_index\n",
        "vocab_size=len(word_index)\n",
        "sequences = tokenizer.texts_to_sequences(sentences)\n",
        "padded = pad_sequences(sequences, maxlen=max_length, padding=padding_type, truncating=trunc_type)\n",
        "split = int(test_portion * training_size)\n",
        "test_sequences = padded[:split]\n",
        "training_sequences = padded[split:]\n",
        "test_labels = labels[:split]\n",
        "training_labels = labels[split:]"
      ],
      "execution_count": 0,
      "outputs": []
    },
    {
      "cell_type": "code",
      "metadata": {
        "id": "gIrtRem1En3N",
        "colab_type": "code",
        "outputId": "d359aba4-87a8-44b2-d501-3c6e3313c362",
        "colab": {
          "base_uri": "https://localhost:8080/",
          "height": 54
        }
      },
      "source": [
        "print(vocab_size)\n",
        "print(word_index['i'])\n",
        "# Expected Output\n",
        "# 138858\n",
        "# 1"
      ],
      "execution_count": 0,
      "outputs": [
        {
          "output_type": "stream",
          "text": [
            "138904\n",
            "2\n"
          ],
          "name": "stdout"
        }
      ]
    },
    {
      "cell_type": "code",
      "metadata": {
        "id": "C1zdgJkusRh0",
        "colab_type": "code",
        "outputId": "839d07b5-d088-426f-b309-77368a68508f",
        "colab": {
          "base_uri": "https://localhost:8080/",
          "height": 219
        }
      },
      "source": [
        "# Note this is the 100 dimension version of GloVe from Stanford\n",
        "# I unzipped and hosted it on my site to make this notebook easier\n",
        "!wget --no-check-certificate \\\n",
        "    https://storage.googleapis.com/laurencemoroney-blog.appspot.com/glove.6B.100d.txt \\\n",
        "    -O /tmp/glove.6B.100d.txt\n",
        "embeddings_index = {};\n",
        "with open('/tmp/glove.6B.100d.txt') as f:\n",
        "    for line in f:\n",
        "        values = line.split();\n",
        "        word = values[0];\n",
        "        coefs = np.asarray(values[1:], dtype='float32');\n",
        "        embeddings_index[word] = coefs;\n",
        "\n",
        "embeddings_matrix = np.zeros((vocab_size+1, embedding_dim));\n",
        "for word, i in word_index.items():\n",
        "    embedding_vector = embeddings_index.get(word);\n",
        "    if embedding_vector is not None:\n",
        "        embeddings_matrix[i] = embedding_vector;"
      ],
      "execution_count": 0,
      "outputs": [
        {
          "output_type": "stream",
          "text": [
            "--2019-09-04 23:18:28--  https://storage.googleapis.com/laurencemoroney-blog.appspot.com/glove.6B.100d.txt\n",
            "Resolving storage.googleapis.com (storage.googleapis.com)... 64.233.166.128, 2a00:1450:400c:c0a::80\n",
            "Connecting to storage.googleapis.com (storage.googleapis.com)|64.233.166.128|:443... connected.\n",
            "HTTP request sent, awaiting response... 200 OK\n",
            "Length: 347116733 (331M) [text/plain]\n",
            "Saving to: ‘/tmp/glove.6B.100d.txt’\n",
            "\n",
            "/tmp/glove.6B.100d. 100%[===================>] 331.04M  90.7MB/s    in 3.6s    \n",
            "\n",
            "2019-09-04 23:18:31 (90.7 MB/s) - ‘/tmp/glove.6B.100d.txt’ saved [347116733/347116733]\n",
            "\n"
          ],
          "name": "stdout"
        }
      ]
    },
    {
      "cell_type": "code",
      "metadata": {
        "id": "71NLk_lpFLNt",
        "colab_type": "code",
        "outputId": "9a0fe65f-5a81-4131-864c-390d5b25873b",
        "colab": {
          "base_uri": "https://localhost:8080/",
          "height": 35
        }
      },
      "source": [
        "print(len(embeddings_matrix))\n",
        "# Expected Output\n",
        "# 138859"
      ],
      "execution_count": 0,
      "outputs": [
        {
          "output_type": "stream",
          "text": [
            "138905\n"
          ],
          "name": "stdout"
        }
      ]
    },
    {
      "cell_type": "code",
      "metadata": {
        "colab_type": "code",
        "id": "iKKvbuEBOGFz",
        "outputId": "7ec42ad3-fd88-40b8-e530-52c1bbd5bafb",
        "colab": {
          "base_uri": "https://localhost:8080/",
          "height": 1000
        }
      },
      "source": [
        "model = tf.keras.Sequential([\n",
        "    tf.keras.layers.Embedding(vocab_size+1, embedding_dim, input_length=max_length, weights=[embeddings_matrix], trainable=False),\n",
        "    tf.keras.layers.Dropout(0.2),\n",
        "    tf.keras.layers.Conv1D(64, 5, activation='relu'),\n",
        "    tf.keras.layers.MaxPooling1D(pool_size=4),\n",
        "    tf.keras.layers.LSTM(64),\n",
        "    tf.keras.layers.Dense(1, activation='sigmoid')\n",
        "])\n",
        "model.compile(loss='binary_crossentropy',optimizer='adam',metrics=['accuracy'])\n",
        "model.summary()\n",
        "\n",
        "num_epochs = 50\n",
        "history = model.fit(training_sequences, training_labels, epochs=num_epochs, validation_data=(test_sequences, test_labels), verbose=2)\n",
        "\n",
        "print(\"Training Complete\")\n"
      ],
      "execution_count": 0,
      "outputs": [
        {
          "output_type": "stream",
          "text": [
            "Model: \"sequential_1\"\n",
            "_________________________________________________________________\n",
            "Layer (type)                 Output Shape              Param #   \n",
            "=================================================================\n",
            "embedding_1 (Embedding)      (None, 16, 100)           13890500  \n",
            "_________________________________________________________________\n",
            "dropout_1 (Dropout)          (None, 16, 100)           0         \n",
            "_________________________________________________________________\n",
            "conv1d_1 (Conv1D)            (None, 12, 64)            32064     \n",
            "_________________________________________________________________\n",
            "max_pooling1d_1 (MaxPooling1 (None, 3, 64)             0         \n",
            "_________________________________________________________________\n",
            "lstm_1 (LSTM)                (None, 64)                33024     \n",
            "_________________________________________________________________\n",
            "dense_1 (Dense)              (None, 1)                 65        \n",
            "=================================================================\n",
            "Total params: 13,955,653\n",
            "Trainable params: 65,153\n",
            "Non-trainable params: 13,890,500\n",
            "_________________________________________________________________\n",
            "Train on 144000 samples, validate on 16000 samples\n",
            "Epoch 1/50\n",
            "144000/144000 - 54s - loss: 0.5681 - acc: 0.6983 - val_loss: 0.5281 - val_acc: 0.7342\n",
            "Epoch 2/50\n",
            "144000/144000 - 54s - loss: 0.5282 - acc: 0.7322 - val_loss: 0.5125 - val_acc: 0.7410\n",
            "Epoch 3/50\n",
            "144000/144000 - 54s - loss: 0.5115 - acc: 0.7431 - val_loss: 0.5087 - val_acc: 0.7477\n",
            "Epoch 4/50\n",
            "144000/144000 - 54s - loss: 0.5001 - acc: 0.7517 - val_loss: 0.5067 - val_acc: 0.7495\n",
            "Epoch 5/50\n",
            "144000/144000 - 53s - loss: 0.4907 - acc: 0.7575 - val_loss: 0.5059 - val_acc: 0.7519\n",
            "Epoch 6/50\n",
            "144000/144000 - 53s - loss: 0.4838 - acc: 0.7623 - val_loss: 0.5060 - val_acc: 0.7516\n",
            "Epoch 7/50\n",
            "144000/144000 - 53s - loss: 0.4788 - acc: 0.7655 - val_loss: 0.5024 - val_acc: 0.7548\n",
            "Epoch 8/50\n",
            "144000/144000 - 53s - loss: 0.4740 - acc: 0.7683 - val_loss: 0.5090 - val_acc: 0.7522\n",
            "Epoch 9/50\n",
            "144000/144000 - 53s - loss: 0.4697 - acc: 0.7718 - val_loss: 0.5114 - val_acc: 0.7543\n",
            "Epoch 10/50\n",
            "144000/144000 - 53s - loss: 0.4653 - acc: 0.7747 - val_loss: 0.5028 - val_acc: 0.7498\n",
            "Epoch 11/50\n",
            "144000/144000 - 53s - loss: 0.4633 - acc: 0.7747 - val_loss: 0.5103 - val_acc: 0.7508\n",
            "Epoch 12/50\n",
            "144000/144000 - 53s - loss: 0.4606 - acc: 0.7759 - val_loss: 0.5105 - val_acc: 0.7527\n",
            "Epoch 13/50\n",
            "144000/144000 - 53s - loss: 0.4572 - acc: 0.7794 - val_loss: 0.5110 - val_acc: 0.7508\n",
            "Epoch 14/50\n",
            "144000/144000 - 53s - loss: 0.4536 - acc: 0.7807 - val_loss: 0.5106 - val_acc: 0.7506\n",
            "Epoch 15/50\n",
            "144000/144000 - 53s - loss: 0.4525 - acc: 0.7812 - val_loss: 0.5130 - val_acc: 0.7541\n",
            "Epoch 16/50\n",
            "144000/144000 - 53s - loss: 0.4513 - acc: 0.7824 - val_loss: 0.5142 - val_acc: 0.7468\n",
            "Epoch 17/50\n",
            "144000/144000 - 53s - loss: 0.4493 - acc: 0.7845 - val_loss: 0.5129 - val_acc: 0.7496\n",
            "Epoch 18/50\n",
            "144000/144000 - 53s - loss: 0.4481 - acc: 0.7845 - val_loss: 0.5147 - val_acc: 0.7460\n",
            "Epoch 19/50\n",
            "144000/144000 - 53s - loss: 0.4461 - acc: 0.7862 - val_loss: 0.5189 - val_acc: 0.7476\n",
            "Epoch 20/50\n",
            "144000/144000 - 52s - loss: 0.4441 - acc: 0.7868 - val_loss: 0.5150 - val_acc: 0.7467\n",
            "Epoch 21/50\n",
            "144000/144000 - 53s - loss: 0.4437 - acc: 0.7877 - val_loss: 0.5143 - val_acc: 0.7449\n",
            "Epoch 22/50\n",
            "144000/144000 - 53s - loss: 0.4425 - acc: 0.7887 - val_loss: 0.5154 - val_acc: 0.7491\n",
            "Epoch 23/50\n",
            "144000/144000 - 53s - loss: 0.4419 - acc: 0.7871 - val_loss: 0.5185 - val_acc: 0.7461\n",
            "Epoch 24/50\n",
            "144000/144000 - 53s - loss: 0.4402 - acc: 0.7892 - val_loss: 0.5275 - val_acc: 0.7491\n",
            "Epoch 25/50\n",
            "144000/144000 - 53s - loss: 0.4386 - acc: 0.7900 - val_loss: 0.5218 - val_acc: 0.7494\n",
            "Epoch 26/50\n",
            "144000/144000 - 53s - loss: 0.4386 - acc: 0.7897 - val_loss: 0.5208 - val_acc: 0.7451\n",
            "Epoch 27/50\n",
            "144000/144000 - 53s - loss: 0.4380 - acc: 0.7905 - val_loss: 0.5238 - val_acc: 0.7481\n",
            "Epoch 28/50\n",
            "144000/144000 - 53s - loss: 0.4372 - acc: 0.7906 - val_loss: 0.5220 - val_acc: 0.7471\n",
            "Epoch 29/50\n",
            "144000/144000 - 54s - loss: 0.4362 - acc: 0.7923 - val_loss: 0.5265 - val_acc: 0.7446\n",
            "Epoch 30/50\n",
            "144000/144000 - 53s - loss: 0.4357 - acc: 0.7920 - val_loss: 0.5281 - val_acc: 0.7493\n",
            "Epoch 31/50\n",
            "144000/144000 - 54s - loss: 0.4344 - acc: 0.7929 - val_loss: 0.5276 - val_acc: 0.7470\n",
            "Epoch 32/50\n",
            "144000/144000 - 53s - loss: 0.4349 - acc: 0.7922 - val_loss: 0.5284 - val_acc: 0.7457\n",
            "Epoch 33/50\n",
            "144000/144000 - 53s - loss: 0.4341 - acc: 0.7928 - val_loss: 0.5339 - val_acc: 0.7451\n",
            "Epoch 34/50\n",
            "144000/144000 - 53s - loss: 0.4322 - acc: 0.7942 - val_loss: 0.5323 - val_acc: 0.7432\n",
            "Epoch 35/50\n",
            "144000/144000 - 54s - loss: 0.4343 - acc: 0.7928 - val_loss: 0.5296 - val_acc: 0.7469\n",
            "Epoch 36/50\n",
            "144000/144000 - 53s - loss: 0.4325 - acc: 0.7937 - val_loss: 0.5359 - val_acc: 0.7476\n",
            "Epoch 37/50\n",
            "144000/144000 - 53s - loss: 0.4329 - acc: 0.7934 - val_loss: 0.5348 - val_acc: 0.7442\n",
            "Epoch 38/50\n",
            "144000/144000 - 53s - loss: 0.4327 - acc: 0.7938 - val_loss: 0.5346 - val_acc: 0.7476\n",
            "Epoch 39/50\n",
            "144000/144000 - 54s - loss: 0.4318 - acc: 0.7937 - val_loss: 0.5317 - val_acc: 0.7477\n",
            "Epoch 40/50\n",
            "144000/144000 - 53s - loss: 0.4325 - acc: 0.7927 - val_loss: 0.5292 - val_acc: 0.7450\n",
            "Epoch 41/50\n",
            "144000/144000 - 53s - loss: 0.4310 - acc: 0.7940 - val_loss: 0.5359 - val_acc: 0.7424\n",
            "Epoch 42/50\n",
            "144000/144000 - 53s - loss: 0.4326 - acc: 0.7945 - val_loss: 0.5311 - val_acc: 0.7430\n",
            "Epoch 43/50\n",
            "144000/144000 - 53s - loss: 0.4309 - acc: 0.7941 - val_loss: 0.5314 - val_acc: 0.7434\n",
            "Epoch 44/50\n",
            "144000/144000 - 53s - loss: 0.4303 - acc: 0.7950 - val_loss: 0.5345 - val_acc: 0.7412\n",
            "Epoch 45/50\n",
            "144000/144000 - 54s - loss: 0.4316 - acc: 0.7945 - val_loss: 0.5314 - val_acc: 0.7441\n",
            "Epoch 46/50\n",
            "144000/144000 - 54s - loss: 0.4301 - acc: 0.7954 - val_loss: 0.5313 - val_acc: 0.7436\n",
            "Epoch 47/50\n",
            "144000/144000 - 54s - loss: 0.4303 - acc: 0.7948 - val_loss: 0.5317 - val_acc: 0.7428\n",
            "Epoch 48/50\n",
            "144000/144000 - 54s - loss: 0.4303 - acc: 0.7950 - val_loss: 0.5330 - val_acc: 0.7442\n",
            "Epoch 49/50\n",
            "144000/144000 - 54s - loss: 0.4306 - acc: 0.7949 - val_loss: 0.5311 - val_acc: 0.7438\n",
            "Epoch 50/50\n",
            "144000/144000 - 54s - loss: 0.4295 - acc: 0.7959 - val_loss: 0.5338 - val_acc: 0.7464\n",
            "Training Complete\n"
          ],
          "name": "stdout"
        }
      ]
    },
    {
      "cell_type": "code",
      "metadata": {
        "id": "qxju4ItJKO8F",
        "colab_type": "code",
        "outputId": "8e8766e7-e1b5-4761-9d07-7423a39f2942",
        "colab": {
          "base_uri": "https://localhost:8080/",
          "height": 610
        }
      },
      "source": [
        "import matplotlib.image  as mpimg\n",
        "import matplotlib.pyplot as plt\n",
        "\n",
        "#-----------------------------------------------------------\n",
        "# Retrieve a list of list results on training and test data\n",
        "# sets for each training epoch\n",
        "#-----------------------------------------------------------\n",
        "acc=history.history['acc']\n",
        "val_acc=history.history['val_acc']\n",
        "loss=history.history['loss']\n",
        "val_loss=history.history['val_loss']\n",
        "\n",
        "epochs=range(len(acc)) # Get number of epochs\n",
        "\n",
        "#------------------------------------------------\n",
        "# Plot training and validation accuracy per epoch\n",
        "#------------------------------------------------\n",
        "plt.plot(epochs, acc, 'r')\n",
        "plt.plot(epochs, val_acc, 'b')\n",
        "plt.title('Training and validation accuracy')\n",
        "plt.xlabel(\"Epochs\")\n",
        "plt.ylabel(\"Accuracy\")\n",
        "plt.legend([\"Accuracy\", \"Validation Accuracy\"])\n",
        "\n",
        "plt.figure()\n",
        "\n",
        "#------------------------------------------------\n",
        "# Plot training and validation loss per epoch\n",
        "#------------------------------------------------\n",
        "plt.plot(epochs, loss, 'r')\n",
        "plt.plot(epochs, val_loss, 'b')\n",
        "plt.title('Training and validation loss')\n",
        "plt.xlabel(\"Epochs\")\n",
        "plt.ylabel(\"Loss\")\n",
        "plt.legend([\"Loss\", \"Validation Loss\"])\n",
        "\n",
        "plt.figure()\n",
        "\n",
        "\n",
        "# Expected Output\n",
        "# A chart where the validation loss does not increase sharply!"
      ],
      "execution_count": 0,
      "outputs": [
        {
          "output_type": "execute_result",
          "data": {
            "text/plain": [
              "<Figure size 432x288 with 0 Axes>"
            ]
          },
          "metadata": {
            "tags": []
          },
          "execution_count": 36
        },
        {
          "output_type": "display_data",
          "data": {
            "image/png": "[encoded data removed]",
            "text/plain": [
              "<Figure size 432x288 with 1 Axes>"
            ]
          },
          "metadata": {
            "tags": []
          }
        },
        {
          "output_type": "display_data",
          "data": {
            "image/png": "[encoded data removed]",
            "text/plain": [
              "<Figure size 432x288 with 1 Axes>"
            ]
          },
          "metadata": {
            "tags": []
          }
        },
        {
          "output_type": "display_data",
          "data": {
            "text/plain": [
              "<Figure size 432x288 with 0 Axes>"
            ]
          },
          "metadata": {
            "tags": []
          }
        }
      ]
    }
  ]
}