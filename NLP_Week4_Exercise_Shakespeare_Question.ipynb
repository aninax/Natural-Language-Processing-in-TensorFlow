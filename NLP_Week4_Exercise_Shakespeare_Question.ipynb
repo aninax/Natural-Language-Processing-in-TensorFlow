{
  "nbformat": 4,
  "nbformat_minor": 0,
  "metadata": {
    "colab": {
      "name": "NLP-Week4-Exercise-Shakespeare-Question.ipynb",
      "version": "0.3.2",
      "provenance": []
    },
    "kernelspec": {
      "name": "python2",
      "display_name": "Python 2"
    },
    "accelerator": "GPU"
  },
  "cells": [
    {
      "cell_type": "code",
      "metadata": {
        "id": "BOwsuGQQY9OL",
        "colab_type": "code",
        "colab": {}
      },
      "source": [
        "from tensorflow.keras.preprocessing.sequence import pad_sequences\n",
        "from tensorflow.keras.layers import Embedding, LSTM, Dense, Dropout, Bidirectional\n",
        "from tensorflow.keras.preprocessing.text import Tokenizer\n",
        "from tensorflow.keras.models import Sequential\n",
        "from tensorflow.keras.optimizers import Adam\n",
        "from tensorflow.keras import regularizers\n",
        "import tensorflow.keras.utils as ku \n",
        "import numpy as np "
      ],
      "execution_count": 0,
      "outputs": []
    },
    {
      "cell_type": "code",
      "metadata": {
        "colab_type": "code",
        "id": "PRnDnCW-Z7qv",
        "outputId": "90de2de8-2bd7-41d6-c114-0dfe007707ad",
        "colab": {
          "base_uri": "https://localhost:8080/",
          "height": 219
        }
      },
      "source": [
        "tokenizer = Tokenizer()\n",
        "!wget --no-check-certificate \\\n",
        "    https://storage.googleapis.com/laurencemoroney-blog.appspot.com/sonnets.txt \\\n",
        "    -O /tmp/sonnets.txt\n",
        "data = open('/tmp/sonnets.txt').read()\n",
        "\n",
        "corpus = data.lower().split(\"\\n\")\n",
        "\n",
        "\n",
        "tokenizer.fit_on_texts(corpus)\n",
        "total_words = len(tokenizer.word_index) + 1\n",
        "\n",
        "# create input sequences using list of tokens\n",
        "input_sequences = []\n",
        "for line in corpus:\n",
        "\ttoken_list = tokenizer.texts_to_sequences([line])[0]\n",
        "\tfor i in range(1, len(token_list)):\n",
        "\t\tn_gram_sequence = token_list[:i+1]\n",
        "\t\tinput_sequences.append(n_gram_sequence)\n",
        "\n",
        "\n",
        "# pad sequences \n",
        "max_sequence_len = max([len(x) for x in input_sequences])\n",
        "input_sequences = np.array(pad_sequences(input_sequences, maxlen=max_sequence_len, padding='pre'))\n",
        "\n",
        "# create predictors and label\n",
        "predictors, label = input_sequences[:,:-1],input_sequences[:,-1]\n",
        "\n",
        "label = ku.to_categorical(label, num_classes=total_words)"
      ],
      "execution_count": 0,
      "outputs": [
        {
          "output_type": "stream",
          "text": [
            "--2019-09-05 00:17:01--  https://storage.googleapis.com/laurencemoroney-blog.appspot.com/sonnets.txt\n",
            "Resolving storage.googleapis.com (storage.googleapis.com)... 74.125.143.128, 2a00:1450:4013:c07::80\n",
            "Connecting to storage.googleapis.com (storage.googleapis.com)|74.125.143.128|:443... connected.\n",
            "HTTP request sent, awaiting response... 200 OK\n",
            "Length: 93578 (91K) [text/plain]\n",
            "Saving to: ‘/tmp/sonnets.txt’\n",
            "\n",
            "\r/tmp/sonnets.txt      0%[                    ]       0  --.-KB/s               \r/tmp/sonnets.txt    100%[===================>]  91.38K  --.-KB/s    in 0.001s  \n",
            "\n",
            "2019-09-05 00:17:01 (120 MB/s) - ‘/tmp/sonnets.txt’ saved [93578/93578]\n",
            "\n"
          ],
          "name": "stdout"
        }
      ]
    },
    {
      "cell_type": "code",
      "metadata": {
        "id": "w9vH8Y59ajYL",
        "colab_type": "code",
        "outputId": "e0541945-630e-4660-88ed-c4646bf6e2ab",
        "colab": {
          "base_uri": "https://localhost:8080/",
          "height": 717
        }
      },
      "source": [
        "model = Sequential()\n",
        "model.add(Embedding(total_words, 100, input_length=max_sequence_len-1))\n",
        "model.add(Bidirectional(LSTM(150, return_sequences = True)))\n",
        "model.add(Dropout(0.2))\n",
        "model.add(LSTM(100))\n",
        "model.add(Dense(total_words/2, activation='relu', kernel_regularizer=regularizers.l2(0.01)))\n",
        "model.add(Dense(total_words, activation='softmax'))\n",
        "model.compile(loss='categorical_crossentropy', optimizer='adam', metrics=['accuracy'])\n",
        "print(model.summary())\n",
        "\n"
      ],
      "execution_count": 0,
      "outputs": [
        {
          "output_type": "stream",
          "text": [
            "WARNING: Logging before flag parsing goes to stderr.\n",
            "W0905 00:17:26.458061 140446187079552 deprecation.py:506] From /usr/local/lib/python2.7/dist-packages/tensorflow/python/keras/initializers.py:119: calling __init__ (from tensorflow.python.ops.init_ops) with dtype is deprecated and will be removed in a future version.\n",
            "Instructions for updating:\n",
            "Call initializer instance with the dtype argument instead of passing it to the constructor\n",
            "W0905 00:17:26.487132 140446187079552 deprecation.py:506] From /usr/local/lib/python2.7/dist-packages/tensorflow/python/ops/init_ops.py:1251: calling __init__ (from tensorflow.python.ops.init_ops) with dtype is deprecated and will be removed in a future version.\n",
            "Instructions for updating:\n",
            "Call initializer instance with the dtype argument instead of passing it to the constructor\n",
            "W0905 00:17:26.493643 140446187079552 deprecation.py:506] From /usr/local/lib/python2.7/dist-packages/tensorflow/python/ops/init_ops.py:97: calling __init__ (from tensorflow.python.ops.init_ops) with dtype is deprecated and will be removed in a future version.\n",
            "Instructions for updating:\n",
            "Call initializer instance with the dtype argument instead of passing it to the constructor\n",
            "W0905 00:17:26.494690 140446187079552 deprecation.py:506] From /usr/local/lib/python2.7/dist-packages/tensorflow/python/ops/init_ops.py:97: calling __init__ (from tensorflow.python.ops.init_ops) with dtype is deprecated and will be removed in a future version.\n",
            "Instructions for updating:\n",
            "Call initializer instance with the dtype argument instead of passing it to the constructor\n",
            "W0905 00:17:26.496285 140446187079552 deprecation.py:506] From /usr/local/lib/python2.7/dist-packages/tensorflow/python/ops/init_ops.py:97: calling __init__ (from tensorflow.python.ops.init_ops) with dtype is deprecated and will be removed in a future version.\n",
            "Instructions for updating:\n",
            "Call initializer instance with the dtype argument instead of passing it to the constructor\n"
          ],
          "name": "stderr"
        },
        {
          "output_type": "stream",
          "text": [
            "Model: \"sequential\"\n",
            "_________________________________________________________________\n",
            "Layer (type)                 Output Shape              Param #   \n",
            "=================================================================\n",
            "embedding (Embedding)        (None, 10, 100)           321100    \n",
            "_________________________________________________________________\n",
            "bidirectional (Bidirectional (None, 10, 300)           301200    \n",
            "_________________________________________________________________\n",
            "dropout (Dropout)            (None, 10, 300)           0         \n",
            "_________________________________________________________________\n",
            "lstm_1 (LSTM)                (None, 100)               160400    \n",
            "_________________________________________________________________\n",
            "dense (Dense)                (None, 1605)              162105    \n",
            "_________________________________________________________________\n",
            "dense_1 (Dense)              (None, 3211)              5156866   \n",
            "=================================================================\n",
            "Total params: 6,101,671\n",
            "Trainable params: 6,101,671\n",
            "Non-trainable params: 0\n",
            "_________________________________________________________________\n",
            "None\n"
          ],
          "name": "stdout"
        }
      ]
    },
    {
      "cell_type": "code",
      "metadata": {
        "id": "AIg2f1HBxqof",
        "colab_type": "code",
        "outputId": "4d5283a5-e59e-4530-94be-69bf07f8c9fd",
        "colab": {
          "base_uri": "https://localhost:8080/",
          "height": 1000
        }
      },
      "source": [
        " history = model.fit(predictors, label, epochs=100, verbose=1)"
      ],
      "execution_count": 0,
      "outputs": [
        {
          "output_type": "stream",
          "text": [
            "W0905 00:17:36.464752 140446187079552 deprecation.py:323] From /usr/local/lib/python2.7/dist-packages/tensorflow/python/ops/math_grad.py:1250: where (from tensorflow.python.ops.array_ops) is deprecated and will be removed in a future version.\n",
            "Instructions for updating:\n",
            "Use tf.where in 2.0, which has the same broadcast rule as np.where\n"
          ],
          "name": "stderr"
        },
        {
          "output_type": "stream",
          "text": [
            "Epoch 1/100\n",
            "15462/15462 [==============================] - 30s 2ms/sample - loss: 6.9030 - acc: 0.0215\n",
            "Epoch 2/100\n",
            "15462/15462 [==============================] - 29s 2ms/sample - loss: 6.5050 - acc: 0.0243\n",
            "Epoch 3/100\n",
            "15462/15462 [==============================] - 29s 2ms/sample - loss: 6.3917 - acc: 0.0249\n",
            "Epoch 4/100\n",
            "15462/15462 [==============================] - 29s 2ms/sample - loss: 6.2714 - acc: 0.0303\n",
            "Epoch 5/100\n",
            "15462/15462 [==============================] - 29s 2ms/sample - loss: 6.1899 - acc: 0.0343\n",
            "Epoch 6/100\n",
            "15462/15462 [==============================] - 29s 2ms/sample - loss: 6.1184 - acc: 0.0382\n",
            "Epoch 7/100\n",
            "15462/15462 [==============================] - 29s 2ms/sample - loss: 6.0435 - acc: 0.0413\n",
            "Epoch 8/100\n",
            "15462/15462 [==============================] - 29s 2ms/sample - loss: 5.9634 - acc: 0.0433\n",
            "Epoch 9/100\n",
            "15462/15462 [==============================] - 29s 2ms/sample - loss: 5.8707 - acc: 0.0468\n",
            "Epoch 10/100\n",
            "15462/15462 [==============================] - 29s 2ms/sample - loss: 5.7751 - acc: 0.0545\n",
            "Epoch 11/100\n",
            "15462/15462 [==============================] - 29s 2ms/sample - loss: 5.6769 - acc: 0.0594\n",
            "Epoch 12/100\n",
            "15462/15462 [==============================] - 29s 2ms/sample - loss: 5.5777 - acc: 0.0633\n",
            "Epoch 13/100\n",
            "15462/15462 [==============================] - 29s 2ms/sample - loss: 5.4838 - acc: 0.0714\n",
            "Epoch 14/100\n",
            "15462/15462 [==============================] - 28s 2ms/sample - loss: 5.3844 - acc: 0.0773\n",
            "Epoch 15/100\n",
            "15462/15462 [==============================] - 29s 2ms/sample - loss: 5.2914 - acc: 0.0847\n",
            "Epoch 16/100\n",
            "15462/15462 [==============================] - 29s 2ms/sample - loss: 5.1912 - acc: 0.0892\n",
            "Epoch 17/100\n",
            "15462/15462 [==============================] - 29s 2ms/sample - loss: 5.0961 - acc: 0.1004\n",
            "Epoch 18/100\n",
            "15462/15462 [==============================] - 29s 2ms/sample - loss: 4.9981 - acc: 0.1072\n",
            "Epoch 19/100\n",
            "15462/15462 [==============================] - 29s 2ms/sample - loss: 4.8955 - acc: 0.1184\n",
            "Epoch 20/100\n",
            "15462/15462 [==============================] - 29s 2ms/sample - loss: 4.8013 - acc: 0.1270\n",
            "Epoch 21/100\n",
            "15462/15462 [==============================] - 29s 2ms/sample - loss: 4.6943 - acc: 0.1361\n",
            "Epoch 22/100\n",
            "15462/15462 [==============================] - 29s 2ms/sample - loss: 4.5925 - acc: 0.1459\n",
            "Epoch 23/100\n",
            "15462/15462 [==============================] - 29s 2ms/sample - loss: 4.4876 - acc: 0.1590\n",
            "Epoch 24/100\n",
            "15462/15462 [==============================] - 29s 2ms/sample - loss: 4.3813 - acc: 0.1689\n",
            "Epoch 25/100\n",
            "15462/15462 [==============================] - 29s 2ms/sample - loss: 4.2811 - acc: 0.1791\n",
            "Epoch 26/100\n",
            "15462/15462 [==============================] - 29s 2ms/sample - loss: 4.1775 - acc: 0.1914\n",
            "Epoch 27/100\n",
            "15462/15462 [==============================] - 29s 2ms/sample - loss: 4.0731 - acc: 0.2059\n",
            "Epoch 28/100\n",
            "15462/15462 [==============================] - 29s 2ms/sample - loss: 3.9699 - acc: 0.2200\n",
            "Epoch 29/100\n",
            "15462/15462 [==============================] - 29s 2ms/sample - loss: 3.8666 - acc: 0.2355\n",
            "Epoch 30/100\n",
            "15462/15462 [==============================] - 29s 2ms/sample - loss: 3.7731 - acc: 0.2549\n",
            "Epoch 31/100\n",
            "15462/15462 [==============================] - 28s 2ms/sample - loss: 3.6691 - acc: 0.2724\n",
            "Epoch 32/100\n",
            "15462/15462 [==============================] - 29s 2ms/sample - loss: 3.5677 - acc: 0.2943\n",
            "Epoch 33/100\n",
            "15462/15462 [==============================] - 29s 2ms/sample - loss: 3.4656 - acc: 0.3128\n",
            "Epoch 34/100\n",
            "15462/15462 [==============================] - 29s 2ms/sample - loss: 3.3968 - acc: 0.3285\n",
            "Epoch 35/100\n",
            "15462/15462 [==============================] - 29s 2ms/sample - loss: 3.3062 - acc: 0.3512\n",
            "Epoch 36/100\n",
            "15462/15462 [==============================] - 29s 2ms/sample - loss: 3.2175 - acc: 0.3697\n",
            "Epoch 37/100\n",
            "15462/15462 [==============================] - 29s 2ms/sample - loss: 3.1336 - acc: 0.3840\n",
            "Epoch 38/100\n",
            "15462/15462 [==============================] - 29s 2ms/sample - loss: 3.0560 - acc: 0.4061\n",
            "Epoch 39/100\n",
            "15462/15462 [==============================] - 29s 2ms/sample - loss: 2.9773 - acc: 0.4217\n",
            "Epoch 40/100\n",
            "15462/15462 [==============================] - 29s 2ms/sample - loss: 2.9250 - acc: 0.4327\n",
            "Epoch 41/100\n",
            "15462/15462 [==============================] - 29s 2ms/sample - loss: 2.8474 - acc: 0.4527\n",
            "Epoch 42/100\n",
            "15462/15462 [==============================] - 29s 2ms/sample - loss: 2.7636 - acc: 0.4713\n",
            "Epoch 43/100\n",
            "15462/15462 [==============================] - 29s 2ms/sample - loss: 2.7165 - acc: 0.4808\n",
            "Epoch 44/100\n",
            "15462/15462 [==============================] - 29s 2ms/sample - loss: 2.6554 - acc: 0.4975\n",
            "Epoch 45/100\n",
            "15462/15462 [==============================] - 29s 2ms/sample - loss: 2.5921 - acc: 0.5089\n",
            "Epoch 46/100\n",
            "15462/15462 [==============================] - 29s 2ms/sample - loss: 2.5308 - acc: 0.5240\n",
            "Epoch 47/100\n",
            "15462/15462 [==============================] - 29s 2ms/sample - loss: 2.4827 - acc: 0.5327\n",
            "Epoch 48/100\n",
            "15462/15462 [==============================] - 29s 2ms/sample - loss: 2.4324 - acc: 0.5465\n",
            "Epoch 49/100\n",
            "15462/15462 [==============================] - 29s 2ms/sample - loss: 2.3671 - acc: 0.5604\n",
            "Epoch 50/100\n",
            "15462/15462 [==============================] - 29s 2ms/sample - loss: 2.3087 - acc: 0.5743\n",
            "Epoch 51/100\n",
            "15462/15462 [==============================] - 29s 2ms/sample - loss: 2.2696 - acc: 0.5796\n",
            "Epoch 52/100\n",
            "15462/15462 [==============================] - 29s 2ms/sample - loss: 2.2158 - acc: 0.5903\n",
            "Epoch 53/100\n",
            "15462/15462 [==============================] - 29s 2ms/sample - loss: 2.1734 - acc: 0.6032\n",
            "Epoch 54/100\n",
            "15462/15462 [==============================] - 29s 2ms/sample - loss: 2.1406 - acc: 0.6083\n",
            "Epoch 55/100\n",
            "15462/15462 [==============================] - 29s 2ms/sample - loss: 2.0978 - acc: 0.6142\n",
            "Epoch 56/100\n",
            "15462/15462 [==============================] - 29s 2ms/sample - loss: 2.0567 - acc: 0.6260\n",
            "Epoch 57/100\n",
            "15462/15462 [==============================] - 29s 2ms/sample - loss: 2.0212 - acc: 0.6334\n",
            "Epoch 58/100\n",
            "15462/15462 [==============================] - 29s 2ms/sample - loss: 1.9770 - acc: 0.6427\n",
            "Epoch 59/100\n",
            "15462/15462 [==============================] - 29s 2ms/sample - loss: 1.9514 - acc: 0.6482\n",
            "Epoch 60/100\n",
            "15462/15462 [==============================] - 28s 2ms/sample - loss: 1.9129 - acc: 0.6568\n",
            "Epoch 61/100\n",
            "15462/15462 [==============================] - 29s 2ms/sample - loss: 1.8708 - acc: 0.6652\n",
            "Epoch 62/100\n",
            "15462/15462 [==============================] - 28s 2ms/sample - loss: 1.8402 - acc: 0.6713\n",
            "Epoch 63/100\n",
            "15462/15462 [==============================] - 28s 2ms/sample - loss: 1.8210 - acc: 0.6722\n",
            "Epoch 64/100\n",
            "15462/15462 [==============================] - 28s 2ms/sample - loss: 1.7855 - acc: 0.6801\n",
            "Epoch 65/100\n",
            "15462/15462 [==============================] - 28s 2ms/sample - loss: 1.7430 - acc: 0.6920\n",
            "Epoch 66/100\n",
            "15462/15462 [==============================] - 28s 2ms/sample - loss: 1.7327 - acc: 0.6943\n",
            "Epoch 67/100\n",
            "15462/15462 [==============================] - 29s 2ms/sample - loss: 1.7131 - acc: 0.6988\n",
            "Epoch 68/100\n",
            "15462/15462 [==============================] - 28s 2ms/sample - loss: 1.6843 - acc: 0.7052\n",
            "Epoch 69/100\n",
            "15462/15462 [==============================] - 29s 2ms/sample - loss: 1.6576 - acc: 0.7053\n",
            "Epoch 70/100\n",
            "15462/15462 [==============================] - 29s 2ms/sample - loss: 1.6275 - acc: 0.7150\n",
            "Epoch 71/100\n",
            "15462/15462 [==============================] - 29s 2ms/sample - loss: 1.6099 - acc: 0.7188\n",
            "Epoch 72/100\n",
            "15462/15462 [==============================] - 29s 2ms/sample - loss: 1.5695 - acc: 0.7275\n",
            "Epoch 73/100\n",
            "15462/15462 [==============================] - 28s 2ms/sample - loss: 1.5523 - acc: 0.7257\n",
            "Epoch 74/100\n",
            "15462/15462 [==============================] - 29s 2ms/sample - loss: 1.5263 - acc: 0.7357\n",
            "Epoch 75/100\n",
            "15462/15462 [==============================] - 29s 2ms/sample - loss: 1.5181 - acc: 0.7341\n",
            "Epoch 76/100\n",
            "15462/15462 [==============================] - 29s 2ms/sample - loss: 1.4929 - acc: 0.7405\n",
            "Epoch 77/100\n",
            "15462/15462 [==============================] - 29s 2ms/sample - loss: 1.4721 - acc: 0.7429\n",
            "Epoch 78/100\n",
            "15462/15462 [==============================] - 29s 2ms/sample - loss: 1.4627 - acc: 0.7438\n",
            "Epoch 79/100\n",
            "15462/15462 [==============================] - 29s 2ms/sample - loss: 1.4332 - acc: 0.7519\n",
            "Epoch 80/100\n",
            "15462/15462 [==============================] - 29s 2ms/sample - loss: 1.4280 - acc: 0.7508\n",
            "Epoch 81/100\n",
            "15462/15462 [==============================] - 29s 2ms/sample - loss: 1.4084 - acc: 0.7570\n",
            "Epoch 82/100\n",
            "15462/15462 [==============================] - 28s 2ms/sample - loss: 1.3759 - acc: 0.7656\n",
            "Epoch 83/100\n",
            "15462/15462 [==============================] - 28s 2ms/sample - loss: 1.3796 - acc: 0.7617\n",
            "Epoch 84/100\n",
            "15462/15462 [==============================] - 28s 2ms/sample - loss: 1.3714 - acc: 0.7590\n",
            "Epoch 85/100\n",
            "15462/15462 [==============================] - 28s 2ms/sample - loss: 1.3523 - acc: 0.7631\n",
            "Epoch 86/100\n",
            "15462/15462 [==============================] - 28s 2ms/sample - loss: 1.3259 - acc: 0.7691\n",
            "Epoch 87/100\n",
            "15462/15462 [==============================] - 28s 2ms/sample - loss: 1.3427 - acc: 0.7642\n",
            "Epoch 88/100\n",
            "15462/15462 [==============================] - 28s 2ms/sample - loss: 1.2939 - acc: 0.7747\n",
            "Epoch 89/100\n",
            "15462/15462 [==============================] - 29s 2ms/sample - loss: 1.2893 - acc: 0.7775\n",
            "Epoch 90/100\n",
            "15462/15462 [==============================] - 28s 2ms/sample - loss: 1.2616 - acc: 0.7861\n",
            "Epoch 91/100\n",
            "15462/15462 [==============================] - 29s 2ms/sample - loss: 1.2643 - acc: 0.7831\n",
            "Epoch 92/100\n",
            "15462/15462 [==============================] - 29s 2ms/sample - loss: 1.2407 - acc: 0.7840\n",
            "Epoch 93/100\n",
            "15462/15462 [==============================] - 28s 2ms/sample - loss: 1.2343 - acc: 0.7877\n",
            "Epoch 94/100\n",
            "15462/15462 [==============================] - 29s 2ms/sample - loss: 1.2165 - acc: 0.7915\n",
            "Epoch 95/100\n",
            "15462/15462 [==============================] - 29s 2ms/sample - loss: 1.2215 - acc: 0.7878\n",
            "Epoch 96/100\n",
            "15462/15462 [==============================] - 29s 2ms/sample - loss: 1.2206 - acc: 0.7859\n",
            "Epoch 97/100\n",
            "15462/15462 [==============================] - 29s 2ms/sample - loss: 1.2010 - acc: 0.7892\n",
            "Epoch 98/100\n",
            "15462/15462 [==============================] - 29s 2ms/sample - loss: 1.1830 - acc: 0.7928\n",
            "Epoch 99/100\n",
            "15462/15462 [==============================] - 28s 2ms/sample - loss: 1.1728 - acc: 0.7937\n",
            "Epoch 100/100\n",
            "15462/15462 [==============================] - 29s 2ms/sample - loss: 1.1756 - acc: 0.7934\n"
          ],
          "name": "stdout"
        }
      ]
    },
    {
      "cell_type": "code",
      "metadata": {
        "id": "1fXTEO3GJ282",
        "colab_type": "code",
        "outputId": "6ecd989e-d6ab-4e06-8d05-1a4a6691c37d",
        "colab": {
          "base_uri": "https://localhost:8080/",
          "height": 545
        }
      },
      "source": [
        "import matplotlib.pyplot as plt\n",
        "acc = history.history['acc']\n",
        "loss = history.history['loss']\n",
        "\n",
        "epochs = range(len(acc))\n",
        "\n",
        "plt.plot(epochs, acc, 'b', label='Training accuracy')\n",
        "plt.title('Training accuracy')\n",
        "\n",
        "plt.figure()\n",
        "\n",
        "plt.plot(epochs, loss, 'b', label='Training Loss')\n",
        "plt.title('Training loss')\n",
        "plt.legend()\n",
        "\n",
        "plt.show()"
      ],
      "execution_count": 0,
      "outputs": [
        {
          "output_type": "display_data",
          "data": {
            "image/png": "[encoded data removed]",
            "text/plain": [
              "<Figure size 432x288 with 1 Axes>"
            ]
          },
          "metadata": {
            "tags": []
          }
        },
        {
          "output_type": "display_data",
          "data": {
            "image/png": "[encoded data removed]",
            "text/plain": [
              "<Figure size 432x288 with 1 Axes>"
            ]
          },
          "metadata": {
            "tags": []
          }
        }
      ]
    },
    {
      "cell_type": "code",
      "metadata": {
        "id": "6Vc6PHgxa6Hm",
        "colab_type": "code",
        "outputId": "e1b64583-f40a-49d1-8d0a-968c13206f4b",
        "colab": {
          "base_uri": "https://localhost:8080/",
          "height": 55
        }
      },
      "source": [
        "seed_text = \"Help me Obi Wan Kenobi, you're my only hope\"\n",
        "next_words = 100\n",
        "  \n",
        "for _ in range(next_words):\n",
        "\ttoken_list = tokenizer.texts_to_sequences([seed_text])[0]\n",
        "\ttoken_list = pad_sequences([token_list], maxlen=max_sequence_len-1, padding='pre')\n",
        "\tpredicted = model.predict_classes(token_list, verbose=0)\n",
        "\toutput_word = \"\"\n",
        "\tfor word, index in tokenizer.word_index.items():\n",
        "\t\tif index == predicted:\n",
        "\t\t\toutput_word = word\n",
        "\t\t\tbreak\n",
        "\tseed_text += \" \" + output_word\n",
        "print(seed_text)"
      ],
      "execution_count": 0,
      "outputs": [
        {
          "output_type": "stream",
          "text": [
            "Help me Obi Wan Kenobi, you're my only hope pleasure my heart dead rotten gems date goddess new fled lend aside curious face days new date rage days defaced fired than false gone which doth prove words wrong living date history light taken grossly shown wrong light light light shows tongue delight light light fired esteem'd living pain torn torn near reap twain twain kind well need prove torn glory kind new hate ' hate new lie lived last upon of thine eye well shows me but hence strange song behind days decays fled here lend time days lies delight days grow fired greater needing need glory glory back\n"
          ],
          "name": "stdout"
        }
      ]
    }
  ]
}